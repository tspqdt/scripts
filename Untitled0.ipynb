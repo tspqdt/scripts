{
  "nbformat": 4,
  "nbformat_minor": 0,
  "metadata": {
    "colab": {
      "provenance": [],
      "authorship_tag": "ABX9TyP/yPMFUKifSVEWdShhblDk",
      "include_colab_link": true
    },
    "kernelspec": {
      "name": "python3",
      "display_name": "Python 3"
    },
    "language_info": {
      "name": "python"
    }
  },
  "cells": [
    {
      "cell_type": "markdown",
      "metadata": {
        "id": "view-in-github",
        "colab_type": "text"
      },
      "source": [
        "<a href=\"https://colab.research.google.com/github/tspqdt/scripts/blob/main/Untitled0.ipynb\" target=\"_parent\"><img src=\"https://colab.research.google.com/assets/colab-badge.svg\" alt=\"Open In Colab\"/></a>"
      ]
    },
    {
      "cell_type": "code",
      "execution_count": null,
      "metadata": {
        "id": "ydp5olv2oEly"
      },
      "outputs": [],
      "source": [
        "if [$1 == \"\"]\n",
        "then\n",
        "        echo \"DESE SECURITY - PORTSCAN\"\n",
        "        echo \"Modo de uso: $0 REDE\"\n",
        "        echo \"Exemplo: $0 172.16.1\"\n",
        "else\n",
        "for ip in {1..254};\n",
        "do\n",
        "hping3 -S -p 1337 -c 1 $1.$ip 2>/dev/null | grep \"flags=SA\";\n",
        "done\n",
        "fi"
      ]
    }
  ]
}