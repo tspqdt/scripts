{
  "nbformat": 4,
  "nbformat_minor": 0,
  "metadata": {
    "colab": {
      "provenance": [],
      "authorship_tag": "ABX9TyOLMXCi1K0sLJRULHxZDHAC",
      "include_colab_link": true
    },
    "kernelspec": {
      "name": "python3",
      "display_name": "Python 3"
    },
    "language_info": {
      "name": "python"
    }
  },
  "cells": [
    {
      "cell_type": "markdown",
      "metadata": {
        "id": "view-in-github",
        "colab_type": "text"
      },
      "source": [
        "<a href=\"https://colab.research.google.com/github/tspqdt/scripts/blob/main/banner.ipynb\" target=\"_parent\"><img src=\"https://colab.research.google.com/assets/colab-badge.svg\" alt=\"Open In Colab\"/></a>"
      ]
    },
    {
      "cell_type": "code",
      "execution_count": null,
      "metadata": {
        "id": "I5nAbfmfqAqx"
      },
      "outputs": [],
      "source": [
        "#!/usr/bin/python3\n",
        "import socket\n",
        "\n",
        "ip = input(\"Digite o IP: \")\n",
        "porta = int(input(\"Digite a porta: \"))\n",
        "\n",
        "meusocket = socket.socket(socket, AF_INET, socket, SOCK_STREAM)\n",
        "meusocket.connect((ip,porta))\n",
        "banner = meusocket.recv(1024)\n",
        "print(banner)"
      ]
    }
  ]
}