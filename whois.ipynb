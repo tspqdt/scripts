{
  "nbformat": 4,
  "nbformat_minor": 0,
  "metadata": {
    "colab": {
      "provenance": [],
      "authorship_tag": "ABX9TyOT0p6a7hNvJI11vIl1VxCH",
      "include_colab_link": true
    },
    "kernelspec": {
      "name": "python3",
      "display_name": "Python 3"
    },
    "language_info": {
      "name": "python"
    }
  },
  "cells": [
    {
      "cell_type": "markdown",
      "metadata": {
        "id": "view-in-github",
        "colab_type": "text"
      },
      "source": [
        "<a href=\"https://colab.research.google.com/github/tspqdt/scripts/blob/main/whois.ipynb\" target=\"_parent\"><img src=\"https://colab.research.google.com/assets/colab-badge.svg\" alt=\"Open In Colab\"/></a>"
      ]
    },
    {
      "cell_type": "code",
      "execution_count": null,
      "metadata": {
        "id": "UYwFRQOlpXUI"
      },
      "outputs": [],
      "source": [
        "#!/usr/share/python\n",
        "import socket,sys\n",
        "\n",
        "s = socket.socket(socket.AF_INET, socket.SOCK_STREAM)\n",
        "s.connect((\"whois.iana.org\",43))\n",
        "request = sys.argv[1]+\"\\r\\n\"\n",
        "s.send(request.encode())\n",
        "resp_request = s.recv(1024).split()\n",
        "whois = resp_request[19]\n",
        "print(whois)\n",
        "s.close()\n",
        "\n",
        "s1 = socket.socket(socket.AF_INET, socket.SOCK_STREAM)\n",
        "s1.connect((whois,43))\n",
        "request2 = sys.argv[1]+\"\\r\\n\"\n",
        "s1.send(request2.encode())\n",
        "resp_request2 = s1.recv(1024)\n",
        "print(resp_request2)"
      ]
    }
  ]
}